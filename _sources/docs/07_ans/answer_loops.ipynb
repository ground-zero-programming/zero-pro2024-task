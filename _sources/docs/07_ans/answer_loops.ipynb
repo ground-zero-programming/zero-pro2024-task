{
 "cells": [
  {
   "cell_type": "markdown",
   "metadata": {},
   "source": [
    "# 第7回：繰り返し処理（解答）"
   ]
  },
  {
   "cell_type": "markdown",
   "metadata": {},
   "source": [
    "## 演習1:`for`文による繰り返し処理"
   ]
  },
  {
   "cell_type": "markdown",
   "metadata": {},
   "source": [
    "### 演習1-1\n",
    "以下の出力結果となるように`range`関数と`for`文を用いて処理を作成せよ．\n",
    "\n",
    "**出力**\n",
    "```python\n",
    "1\n",
    "2\n",
    "4\n",
    "8\n",
    "16\n",
    "32\n",
    "64\n",
    "128\n",
    "256\n",
    "512\n",
    "1024\n",
    "```"
   ]
  },
  {
   "cell_type": "code",
   "execution_count": null,
   "metadata": {},
   "outputs": [],
   "source": [
    "# 解答\n",
    "for i in range(11):\n",
    "    a = 2 ** i\n",
    "    print(a)"
   ]
  },
  {
   "cell_type": "markdown",
   "metadata": {},
   "source": [
    "### 演習1-2\n",
    "`range`関数と`for`文を用いて以下の要素を持つリストを作成せよ．\n",
    "\n",
    "ヒント：`append`関数を使うとリストに要素を追加できる．\n",
    "\n",
    "**出力**\n",
    "```python\n",
    "[0, 2, 4, 6, 8, 10, 12, 14, 16, 18, 20]\n",
    "```"
   ]
  },
  {
   "cell_type": "code",
   "execution_count": null,
   "metadata": {},
   "outputs": [],
   "source": [
    "# 解答\n",
    "l_loop = []\n",
    "for i in range(0, 22, 2):\n",
    "    l_loop.append(i)\n",
    "print(l_loop)"
   ]
  },
  {
   "cell_type": "markdown",
   "metadata": {},
   "source": [
    "### 演習1-3\n",
    "`for`文は文字列も繰り返すことができる．文字列`abcdef`を作成し，リストの代わりに文字列を`for`文で繰り返した結果を確認せよ．正しく実行ができると以下の出力結果となるはずである．\n",
    "\n",
    "**出力**\n",
    "```python\n",
    "a\n",
    "b\n",
    "c\n",
    "d\n",
    "e\n",
    "f\n",
    "```"
   ]
  },
  {
   "cell_type": "code",
   "execution_count": null,
   "metadata": {},
   "outputs": [],
   "source": [
    "# 解答用セル\n",
    "ss = 'abcdef'\n",
    "for s in ss:\n",
    "    print(s)"
   ]
  },
  {
   "cell_type": "markdown",
   "metadata": {},
   "source": [
    "### 演習1-4\n",
    "演習1-3をベースに文字列からの文字の取り出しと，繰り返し回数を同時に出力せよ．\n",
    "参考までに以下のような出力例が得られると良い．\n",
    "\n",
    "**出力**\n",
    "```python\n",
    "文字: a - 繰り返し回数: 1\n",
    "文字: b - 繰り返し回数: 2\n",
    "文字: c - 繰り返し回数: 3\n",
    "文字: d - 繰り返し回数: 4\n",
    "文字: e - 繰り返し回数: 5\n",
    "文字: f - 繰り返し回数: 6\n",
    "```"
   ]
  },
  {
   "cell_type": "code",
   "execution_count": null,
   "metadata": {},
   "outputs": [],
   "source": [
    "# 解答例\n",
    "ss = 'abcdef'\n",
    "\n",
    "i = 1\n",
    "for s in ss:\n",
    "    print(f'文字: {s} - 繰り返し回数: {i}')\n",
    "    i = i + 1"
   ]
  },
  {
   "cell_type": "code",
   "execution_count": null,
   "metadata": {},
   "outputs": [],
   "source": [
    "# 解答例\n",
    "ss = 'abcdef'\n",
    "\n",
    "i = 1\n",
    "for i, s in enumerate(ss):\n",
    "    print(f'文字: {s} - 繰り返し回数: {i}')\n",
    "    i = i + 1"
   ]
  },
  {
   "cell_type": "markdown",
   "metadata": {},
   "source": [
    "### 演習1-5\n",
    "演習1-3と1-4を参考に以下の出力結果となるような繰り返し処理を作成せよ．\n",
    "\n",
    "**出力**\n",
    "```python\n",
    "aaaaaa\n",
    "bbbbb\n",
    "cccc\n",
    "ddd\n",
    "ee\n",
    "f\n",
    "```"
   ]
  },
  {
   "cell_type": "code",
   "execution_count": null,
   "metadata": {},
   "outputs": [],
   "source": [
    "# 解答例\n",
    "ss = 'abcdef'\n",
    "\n",
    "i = 1\n",
    "total = len(ss)\n",
    "for s in ss:\n",
    "    print(s*(total - i + 1))\n",
    "    i = i + 1"
   ]
  },
  {
   "cell_type": "code",
   "execution_count": null,
   "metadata": {},
   "outputs": [],
   "source": [
    "# 解答例\n",
    "ss = 'abcdef'\n",
    "\n",
    "i = 1\n",
    "total = len(ss)\n",
    "for i, s in enumerate(ss):\n",
    "    print(s*(total - i))"
   ]
  },
  {
   "cell_type": "markdown",
   "metadata": {},
   "source": [
    "## 演習2:繰り返し処理と条件分岐"
   ]
  },
  {
   "cell_type": "markdown",
   "metadata": {},
   "source": [
    "### 演習2-1\n",
    "1から20までの整数を出力する際に，その数が偶数であれば\"偶数\"，奇数であれば\"奇数\"と出力するプログラムを繰り返し処理を用いて作成せよ\n",
    "\n",
    "**出力**\n",
    "```python\n",
    "1: 奇数\n",
    "2: 偶数\n",
    "3: 奇数\n",
    "4: 偶数\n",
    "...\n",
    "```"
   ]
  },
  {
   "cell_type": "code",
   "execution_count": 19,
   "metadata": {},
   "outputs": [],
   "source": [
    "# 解答セル"
   ]
  },
  {
   "cell_type": "code",
   "execution_count": null,
   "metadata": {},
   "outputs": [],
   "source": [
    "# 解答例\n",
    "for i in range(1, 21):\n",
    "    if i % 2 == 0:\n",
    "        print(f\"{i}: 偶数\")\n",
    "    else:\n",
    "        print(f\"{i}: 奇数\")"
   ]
  },
  {
   "cell_type": "markdown",
   "metadata": {},
   "source": [
    "### 演習2-2\n",
    "以下の点数リストが与えられたとき，70点以上の点数を取った人は何人いるかを計算するプログラムを作成せよ．\n",
    "\n",
    "点数リスト: `[45, 78, 62, 89, 73, 55, 81, 68]`"
   ]
  },
  {
   "cell_type": "code",
   "execution_count": null,
   "metadata": {},
   "outputs": [],
   "source": [
    "# 解答例\n",
    "scores = [45, 78, 62, 89, 73, 55, 81, 68]\n",
    "count = 0\n",
    "for score in scores:\n",
    "    if score >= 70:\n",
    "        count += 1\n",
    "print(count)"
   ]
  },
  {
   "cell_type": "markdown",
   "metadata": {},
   "source": [
    "### 演習2-3\n",
    "以下の点数リストが与えられたとき，平均点を計算するプログラムを作成せよ．\n",
    "\n",
    "点数リスト: `[45, 78, 62, 89, 73, 55, 81, 68]`"
   ]
  },
  {
   "cell_type": "code",
   "execution_count": null,
   "metadata": {},
   "outputs": [],
   "source": [
    "# 解答例\n",
    "scores = [45, 78, 62, 89, 73, 55, 81, 68]\n",
    "total_score = 0\n",
    "for score in scores:\n",
    "    total_score += score\n",
    "average = total_score / len(scores)\n",
    "print(average)"
   ]
  },
  {
   "cell_type": "markdown",
   "metadata": {},
   "source": [
    "### 演習2-4\n",
    "文字列 `faehoieanfeaobasbaksfae` の中に含まれる `a` の数を繰り返し処理を用いて計算せよ．"
   ]
  },
  {
   "cell_type": "code",
   "execution_count": null,
   "metadata": {},
   "outputs": [],
   "source": [
    "# 解答例\n",
    "ss = 'faehoieanfeaobasbaksfae'\n",
    "i = 0\n",
    "for s in ss:\n",
    "    if s == 'a':\n",
    "        i = i + 1\n",
    "print(i)"
   ]
  },
  {
   "cell_type": "markdown",
   "metadata": {},
   "source": [
    "### 演習2-5\n",
    "以下の出力のように${1,2,...,999}$の数の中で$123$で割り切れる値をすべて出力せよ\n",
    "\n",
    "**出力**\n",
    "```python\n",
    "123\n",
    "246\n",
    "369\n",
    "492\n",
    "615\n",
    "738\n",
    "861\n",
    "984\n",
    "```"
   ]
  },
  {
   "cell_type": "code",
   "execution_count": null,
   "metadata": {},
   "outputs": [],
   "source": [
    "# 解答例\n",
    "j = 123\n",
    "for i in range(1,1000):\n",
    "    if i % j == 0:\n",
    "        print(i)"
   ]
  },
  {
   "cell_type": "markdown",
   "metadata": {},
   "source": [
    "## 演習3:繰り返し処理と数列"
   ]
  },
  {
   "cell_type": "markdown",
   "metadata": {},
   "source": [
    "### 演習3-1\n",
    "1から10までの整数の総和（与えられた複数の数を全て足した和のこと）を求めるプログラムを`for`文を使用して作成せよ\n",
    "\n",
    "**出力**\n",
    "```python\n",
    "55\n",
    "```"
   ]
  },
  {
   "cell_type": "code",
   "execution_count": null,
   "metadata": {},
   "outputs": [],
   "source": [
    "# 解答例\n",
    "total = 0\n",
    "for i in range(1, 11):\n",
    "    total = total + i\n",
    "print(total)"
   ]
  },
  {
   "cell_type": "markdown",
   "metadata": {},
   "source": [
    "### 演習3-2\n",
    "1から5までの整数の総乗（与えられた複数の数を全て掛けた積のこと）を求めるプログラムを`for`文を使用して作成せよ\n",
    "\n",
    "**出力**\n",
    "```python\n",
    "120\n",
    "```"
   ]
  },
  {
   "cell_type": "code",
   "execution_count": null,
   "metadata": {},
   "outputs": [],
   "source": [
    "# 解答例\n",
    "product = 1\n",
    "for i in range(1, 6):\n",
    "    product = product * i\n",
    "print(product)"
   ]
  },
  {
   "cell_type": "markdown",
   "metadata": {},
   "source": [
    "### 演習3-3\n",
    "1から`n`までの整数の総和と総乗を求めるプログラムを`for`文を使用して作成せよ．\n",
    "\n",
    "ただし出力時は `n` に6以上の任意の値を代入せよ．\n",
    "\n",
    "**出力 (n=5の場合)**\n",
    "```python\n",
    "総和: 15\n",
    "総乗: 120\n",
    "```"
   ]
  },
  {
   "cell_type": "code",
   "execution_count": null,
   "metadata": {},
   "outputs": [],
   "source": [
    "# 解答例\n",
    "n = 5\n",
    "sum_value = 0\n",
    "prod_value = 1\n",
    "for i in range(1, n + 1):\n",
    "    sum_value = sum_value + i\n",
    "    prod_value = prod_value * i\n",
    "print(\"総和:\", sum_value)\n",
    "print(\"総乗:\", prod_value)"
   ]
  },
  {
   "cell_type": "markdown",
   "metadata": {},
   "source": [
    "### 演習3-4\n",
    "以下の式は奇数列 $1, 3, 5, 7, \\dots$ の $n$ 項までの総和を表す．\n",
    "\n",
    "$$\n",
    "S = \\sum_{k=1}^{n} (2k - 1)\n",
    "$$\n",
    "\n",
    "$n=10$ としたとき，この和 $S$ を繰り返し処理で求めよ．\n",
    "\n",
    "結果は次のようになるはずである．\n",
    "\n",
    "$$\n",
    "S = 1 + 3 + 5 + 7 + 9 + 11 + 13 + 15 + 17 + 19 = 100\n",
    "$$"
   ]
  },
  {
   "cell_type": "code",
   "execution_count": null,
   "metadata": {},
   "outputs": [],
   "source": [
    "# 解答例\n",
    "\n",
    "n = 10\n",
    "total = 0\n",
    "for k in range(1, n+1):\n",
    "    num = 2 * k - 1\n",
    "    total = total + num\n",
    "print(total)"
   ]
  },
  {
   "cell_type": "markdown",
   "metadata": {},
   "source": [
    "## 演習4:発展課題\n",
    "これ以降は発展的な演習課題となります． 解くことは必須ではありませんがぜひチャレンジしてみてください．"
   ]
  },
  {
   "cell_type": "markdown",
   "metadata": {},
   "source": [
    "### 演習4-1\n",
    "繰り返し処理を使って以下のようなピラミッドの文字列を出力を得よ．\n",
    "\n",
    "**出力**\n",
    "```:python\n",
    "     1\n",
    "    222\n",
    "   33333\n",
    "  4444444\n",
    " 555555555\n",
    "```"
   ]
  },
  {
   "cell_type": "code",
   "execution_count": null,
   "metadata": {},
   "outputs": [],
   "source": [
    "# 解答例\n",
    "ss = '12345'\n",
    "num_ss = len(ss)\n",
    "\n",
    "i = 0\n",
    "for s in ss:\n",
    "    side = ' ' * (num_ss-i)\n",
    "    print(side + s*i + s + s*i)\n",
    "    i = i + 1\n"
   ]
  },
  {
   "cell_type": "markdown",
   "metadata": {},
   "source": [
    "### 演習4-2\n",
    "\n",
    "条件分岐の発展課題のFizzBuzz問題を繰り返し処理で拡張する．\n",
    "変数 `number` の値を `1` から `20` まで繰り返し，`number` が\n",
    "\n",
    "- `3` で割り切れて `5` で割り切れないときは「`Fizz`」と出力\n",
    "- `5` で割り切れて `3` で割り切れない時は「`Buzz`」と出力\n",
    "- 両方で割り切れるときは「`FizzBuzz`」と出力\n",
    "- 両方で割り切れないときは，入力した数をそのまま出力\n",
    "\n",
    "とされるような繰り返し処理を実装せよ．\n",
    "\n",
    "出力例は以下である．\n",
    "\n",
    "**出力**\n",
    "```:python\n",
    "1\n",
    "2\n",
    "Fizz\n",
    "4\n",
    "Buzz\n",
    "Fizz\n",
    "7\n",
    "8\n",
    "Fizz\n",
    "Buzz\n",
    "11\n",
    "Fizz\n",
    "13\n",
    "14\n",
    "FizzBuzz\n",
    "16\n",
    "17\n",
    "Fizz\n",
    "19\n",
    "Buzz\n",
    "```"
   ]
  },
  {
   "cell_type": "code",
   "execution_count": null,
   "metadata": {},
   "outputs": [],
   "source": [
    "# 解答例\n",
    "for number in range(1,21):\n",
    "    if number % 3 == 0 and number % 5 != 0:\n",
    "        print('Fizz')\n",
    "    elif number % 5 == 0 and number % 3 != 0:\n",
    "        print('Buzz')\n",
    "    elif number % 5 == 0 and number % 3 == 0:\n",
    "        print('FizzBuzz')\n",
    "    else:\n",
    "        print(number)"
   ]
  }
 ],
 "metadata": {
  "kernelspec": {
   "display_name": "ml-py39",
   "language": "python",
   "name": "python3"
  },
  "language_info": {
   "codemirror_mode": {
    "name": "ipython",
    "version": 3
   },
   "file_extension": ".py",
   "mimetype": "text/x-python",
   "name": "python",
   "nbconvert_exporter": "python",
   "pygments_lexer": "ipython3",
   "version": "3.9.13"
  }
 },
 "nbformat": 4,
 "nbformat_minor": 2
}
