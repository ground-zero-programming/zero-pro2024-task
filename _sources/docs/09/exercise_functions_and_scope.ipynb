{
 "cells": [
  {
   "cell_type": "markdown",
   "metadata": {},
   "source": [
    "# 第9回：関数（演習）\n",
    "\n",
    "学籍番号：...\n",
    "\n",
    "氏名：...\n",
    "\n",
    "---"
   ]
  },
  {
   "cell_type": "markdown",
   "metadata": {},
   "source": [
    "## 演習1：関数の基礎\n",
    "\n",
    "### 演習1-1\n",
    "\n",
    "以下の関数 `multiply_numbers` は不完全な関数である（そのまま実行してもエラーが出る）．\n",
    "\n",
    "```python\n",
    "def multiply_numbers():\n",
    "    print(x * y)\n",
    "```\n",
    "\n",
    "2つの引数 `x`, `y` を設定し，それらの積を出力するように修正せよ．\n",
    "\n",
    "また，実際に `x` に 5，`y` に 3 を設定して関数を呼び出し，計算結果が正しく表示されることを確認せよ（`15` が表示されるはず）．"
   ]
  },
  {
   "cell_type": "code",
   "execution_count": 17,
   "metadata": {},
   "outputs": [
    {
     "name": "stdout",
     "output_type": "stream",
     "text": [
      "31\n"
     ]
    }
   ],
   "source": [
    "# 解答用セル\n"
   ]
  },
  {
   "cell_type": "markdown",
   "metadata": {},
   "source": [
    "### 演習1-2\n",
    "\n",
    "先ほどの関数 `multiply_numbers` を修正し，計算結果を戻り値として返すように変更せよ．\n",
    "\n",
    "また，実際に `x` に 4，`y` に 7 を設定して関数を実行し，返ってきた戻り値を変数 `result` に格納せよ．\n",
    "この `result` の値を `print` 文で表示し，正しく計算できていることを確認せよ．"
   ]
  },
  {
   "cell_type": "code",
   "execution_count": 18,
   "metadata": {},
   "outputs": [],
   "source": [
    "# 解答用セル\n"
   ]
  },
  {
   "cell_type": "markdown",
   "metadata": {},
   "source": [
    "### 演習1-3\n",
    "\n",
    "演習1-2の関数 `multiply_numbers` をさらに修正し，3つの引数 `x`, `y`, `z` に対して $(x \\times y) + z$ を計算するように変更せよ．\n",
    "\n",
    "また，実際に `x` に 2，`y` に 3，`z` に 4 を設定して関数を実行し，返ってきた戻り値を変数 `result` に格納せよ．\n",
    "この `result` の値を `print` 文で表示し，正しく計算できていることを確認せよ（`10` が表示されるはず）．"
   ]
  },
  {
   "cell_type": "code",
   "execution_count": null,
   "metadata": {},
   "outputs": [],
   "source": [
    "# 解答用セル\n"
   ]
  },
  {
   "cell_type": "markdown",
   "metadata": {},
   "source": [
    "## 演習2：関数の実践\n",
    "\n",
    "以下の例題を参考に，課題2-1〜2-5の各課題の条件に合う関数を作成せよ．\n",
    "プログラムには，その関数を呼び出す命令文を含めること．\n",
    "関数に戻り値がある場合は，受け取った戻り値を出力すること（`return` 文を使って戻り値を設定するかどうかは課題ごとに判断せよ）．\n",
    "\n",
    "課題を解くためには，前の回で学んだ条件分岐やループ処理に関する知識が必要になるので，不安な人は復習しておこう．\n",
    "\n",
    "### 例題\n",
    "\n",
    "関数名：　　　`get_rectangle_area`<br>\n",
    "引数：　　　　`width`, `height`<br>\n",
    "処理の内容：　引数で渡された幅（`width`）と高さ（`height`）の値を持つ長方形の面積を返す．\n",
    "\n",
    "**解答例** "
   ]
  },
  {
   "cell_type": "code",
   "execution_count": 2,
   "metadata": {},
   "outputs": [
    {
     "name": "stdout",
     "output_type": "stream",
     "text": [
      "24\n"
     ]
    }
   ],
   "source": [
    "def get_rectangle_area(width, height):\n",
    "    return width * height\n",
    "\n",
    "result = get_rectangle_area(8, 3) # 関数を呼び出す命令文を書く\n",
    "print(result) # 戻り値がある場合は，受け取った戻り値を出力する"
   ]
  },
  {
   "cell_type": "markdown",
   "metadata": {},
   "source": [
    "### 演習2-1\n",
    "\n",
    "関数名：　　　`get_circle_area`  \n",
    "引数：　　　　`radius`  \n",
    "処理の内容：　引数で渡された半径（`radius`）の値を持つ円の面積を返す．円周率は 3.14 とする．"
   ]
  },
  {
   "cell_type": "code",
   "execution_count": 3,
   "metadata": {},
   "outputs": [],
   "source": [
    "# 解答用セル\n"
   ]
  },
  {
   "cell_type": "markdown",
   "metadata": {},
   "source": [
    "### 演習2-2\n",
    "\n",
    "関数名：　　　`get_average`  \n",
    "引数：　　　　`a`, `b`, `c`  \n",
    "処理の内容：　3つの数値の平均値を返す"
   ]
  },
  {
   "cell_type": "code",
   "execution_count": null,
   "metadata": {},
   "outputs": [],
   "source": [
    "# 解答用セル\n"
   ]
  },
  {
   "cell_type": "markdown",
   "metadata": {},
   "source": [
    "### 演習2-3\n",
    "\n",
    "関数名：　　　`get_smaller_number`  \n",
    "引数：　　　　`a`, `b`  \n",
    "処理の内容：　引数で渡された2つの数字（`a`, `b`）のうち，小さい方の値を返す（値が等しい場合はどちらを返してもよい）．"
   ]
  },
  {
   "cell_type": "code",
   "execution_count": 16,
   "metadata": {},
   "outputs": [],
   "source": [
    "# 解答用セル\n"
   ]
  },
  {
   "cell_type": "markdown",
   "metadata": {},
   "source": [
    "### 演習2-4\n",
    "\n",
    "関数名：　　　`is_positive`  \n",
    "引数：　　　　`number`  \n",
    "処理の内容：　引数で渡された `number` が正の数なら `True`，0または負の数なら `False` を返す．"
   ]
  },
  {
   "cell_type": "code",
   "execution_count": 4,
   "metadata": {},
   "outputs": [],
   "source": [
    "# 解答用セル\n"
   ]
  },
  {
   "cell_type": "markdown",
   "metadata": {},
   "source": [
    "### 演習2-5\n",
    "\n",
    "関数名：　　　`count_characters`  \n",
    "引数：　　　　`string`  \n",
    "処理の内容：　引数で渡された文字列 `string` に含まれる文字数を返す"
   ]
  },
  {
   "cell_type": "code",
   "execution_count": 5,
   "metadata": {},
   "outputs": [],
   "source": [
    "# 解答用セル\n"
   ]
  },
  {
   "cell_type": "markdown",
   "metadata": {},
   "source": [
    "## 演習3：発展課題\n",
    "\n",
    "これ以降は発展的な演習課題となります． 解くことは必須ではありませんが，関数を応用する良い練習になるので，ぜひチャレンジしてみてください．\n",
    "\n",
    "\n",
    "演習2と同様に，以下の条件に合う関数を作成せよ．\n",
    "課題を解く上での要件は演習2を参照．\n",
    "\n",
    "\n",
    "### 演習3-1\n",
    "\n",
    "関数名：　　　`get_even`<br>\n",
    "引数：　　　　`numbers`（整数が格納されたリスト）<br>\n",
    "処理の内容：　引数で渡された整数のリスト（`numbers`）の中に，偶数が何個含まれているかカウントし，そのカウント数を返す．<br>\n",
    "※ 例：`get_even([1, 2, 4])` とすると，値 `2` を返すようにする．"
   ]
  },
  {
   "cell_type": "code",
   "execution_count": 10,
   "metadata": {},
   "outputs": [],
   "source": [
    "# 解答用セル\n"
   ]
  },
  {
   "cell_type": "markdown",
   "metadata": {},
   "source": [
    "### 演習3-2\n",
    "\n",
    "関数名：　　　`count_vowels_consonants`  \n",
    "引数：　　　　`string`（英単語）  \n",
    "処理の内容：　引数で渡された英単語に含まれる母音（a, e, i, o, u）の数と子音の数をカウントし，それぞれの数を返す．  \n",
    "※ 例：`count_vowels_consonants(\"hello\")` とすると，タプル `2, 3` を返す．"
   ]
  },
  {
   "cell_type": "code",
   "execution_count": 16,
   "metadata": {},
   "outputs": [],
   "source": [
    "# 解答用セル\n"
   ]
  },
  {
   "cell_type": "markdown",
   "metadata": {},
   "source": [
    "### 演習3-3\n",
    "\n",
    "関数名：　　　`countdown`<br>\n",
    "引数：　　　　`start`, `end=0`<br>\n",
    "処理の内容：　`start` に指定した整数から1つずつカウントダウンを行い，`end` に到達するまでカウントダウンの結果を表示するプログラムを作成せよ．例えば，`start=5`, `end=0` と指定した場合，`5`, `4`, `3`, `2`, `1`, `0` を表示せよ．なお，`end` はデフォルト引数として定義し，呼び出し時に値が指定されない場合は `0` が設定されるようにせよ．\n",
    "\n",
    "**実行・出力例1**\n",
    "\n",
    "```python\n",
    "countdown(10, 2)\n",
    "```\n",
    "\n",
    "```:python\n",
    "10\n",
    "9\n",
    "8\n",
    "7\n",
    "6\n",
    "5\n",
    "4\n",
    "3\n",
    "2\n",
    "```\n",
    "\n",
    "**実行・出力例2**（`end` に値を指定しない場合，`end=0` として扱われる）\n",
    "\n",
    "```python\n",
    "countdown(4)\n",
    "```\n",
    "\n",
    "```:python\n",
    "4\n",
    "3\n",
    "2\n",
    "1\n",
    "0\n",
    "```"
   ]
  },
  {
   "cell_type": "code",
   "execution_count": null,
   "metadata": {},
   "outputs": [],
   "source": [
    "# 解答用セル\n"
   ]
  },
  {
   "cell_type": "markdown",
   "metadata": {},
   "source": [
    "### 演習3-4\n",
    "\n",
    "関数名：　　　`calculate_sum`  \n",
    "引数：　　　　`*numbers`  \n",
    "処理の内容：　可変長引数で渡された複数の数値の合計を返す．  \n",
    "※ 例：`calculate_sum(1, 2, 3, 4)` とすると，値 `10` が返される．"
   ]
  },
  {
   "cell_type": "code",
   "execution_count": 13,
   "metadata": {},
   "outputs": [],
   "source": [
    "# 解答用セル\n"
   ]
  },
  {
   "cell_type": "markdown",
   "metadata": {},
   "source": [
    "### 演習3-5\n",
    "\n",
    "関数名：　　　`apply_function`<br>\n",
    "引数：　　　　`numbers`（数値が格納されたリスト）, `func`（関数）<br>\n",
    "処理の内容：　第1引数として与えられたリストの各要素に対して，第2引数として与えられた関数を適用し，結果を返す．<br>\n",
    "※第2引数に指定する関数としては，以下の `inversion` 関数を使用せよ．\n",
    "\n",
    "```python\n",
    "# 受け取った数値の符号を反転させる\n",
    "def inversion(value):\n",
    "    return -1 * value\n",
    "```\n",
    "\n",
    "**実行・出力例**\n",
    "```python\n",
    "numbers = [-2, -1, 0, 5, 8]\n",
    "\n",
    "result = apply_function(numbers, inversion)\n",
    "print(result)\n",
    "```\n",
    "\n",
    "```:python\n",
    "[2, 1, 0, -5, -8]\n",
    "```"
   ]
  },
  {
   "cell_type": "code",
   "execution_count": null,
   "metadata": {},
   "outputs": [],
   "source": [
    "# 解答用セル\n"
   ]
  },
  {
   "cell_type": "markdown",
   "metadata": {},
   "source": [
    "### 演習3-6\n",
    "\n",
    "先ほどの演習3-5の課題について， `inversion` 関数を定義せずに，ラムダ式を用いて同様の処理を実現せよ．"
   ]
  },
  {
   "cell_type": "code",
   "execution_count": 19,
   "metadata": {},
   "outputs": [],
   "source": [
    "# 解答用セル\n"
   ]
  }
 ],
 "metadata": {
  "kernelspec": {
   "display_name": "Python 3.9.7 ('zeropro-book')",
   "language": "python",
   "name": "python3"
  },
  "language_info": {
   "codemirror_mode": {
    "name": "ipython",
    "version": 3
   },
   "file_extension": ".py",
   "mimetype": "text/x-python",
   "name": "python",
   "nbconvert_exporter": "python",
   "pygments_lexer": "ipython3",
   "version": "3.9.7"
  },
  "orig_nbformat": 4,
  "vscode": {
   "interpreter": {
    "hash": "13b92c06b6e5ed457c2ffbe8aafd0597ab041ad1a918995ab3a6bf23080bab16"
   }
  }
 },
 "nbformat": 4,
 "nbformat_minor": 2
}
