{
 "cells": [
  {
   "cell_type": "markdown",
   "metadata": {},
   "source": [
    "# 第11回：クラス（演習）\n",
    "\n",
    "学籍番号：...\n",
    "\n",
    "氏名：...\n",
    "\n",
    "---"
   ]
  },
  {
   "cell_type": "markdown",
   "metadata": {},
   "source": [
    "## 演習1：クラスの作成\n",
    "ユーザーごとの情報を管理・処理するプログラムを作成したい．クラスを用いて次のインスタンス変数を持つクラス `User` を作成せよ．\n",
    "\n",
    "必要なインスタンス変数\n",
    "- 名前（`name`）：str型\n",
    "- ID（`user_id`）：str型"
   ]
  },
  {
   "cell_type": "code",
   "execution_count": null,
   "metadata": {},
   "outputs": [],
   "source": [
    "# 解答\n",
    "\n",
    "class User:\n",
    "    def __init__(self, name, user_id):\n",
    "        self.name = name\n",
    "        self.user_id = user_id"
   ]
  },
  {
   "cell_type": "markdown",
   "metadata": {},
   "source": [
    "## 演習2：インスタンス化\n",
    "作成したクラスからインスタンスを作成せよ．また，以下の結果を出力するコードを作成せよ．\n",
    "\n",
    "**出力**\n",
    "\n",
    "```\n",
    "アイザック・アシモフのIDはA123です\n",
    "ウィリアム・ギブスンのIDはB456です\n",
    "フィリップ・K・ディックのIDはC789です\n",
    "```\n",
    "\n",
    "\n",
    "ただし，変数に対応する値は以下とする．\n",
    "\n",
    "**インスタンス変数の値**\n",
    "\n",
    "| name  |　user_id |\n",
    "|----------|----------|\n",
    "| アイザック・アシモフ　| A123 |\n",
    "| ウィリアム・ギブスン | B456 |\n",
    "| フィリップ・K・ディック  | C789 |"
   ]
  },
  {
   "cell_type": "code",
   "execution_count": null,
   "metadata": {},
   "outputs": [],
   "source": [
    "# 解答\n",
    "user_1 = User('アイザック・アシモフ', 'A123')\n",
    "user_2 = User('ウィリアム・ギブスン', 'B456')\n",
    "user_3 = User('フィリップ・K・ディック', 'C789')\n",
    "\n",
    "print(f'{user_1.name}のIDは{user_1.user_id}です')\n",
    "print(f'{user_2.name}のIDは{user_2.user_id}です')\n",
    "print(f'{user_3.name}のIDは{user_3.user_id}です')"
   ]
  },
  {
   "cell_type": "markdown",
   "metadata": {},
   "source": [
    "## 演習3：インスタンスメソッド\n",
    "演習2で作成したクラスを再定義して，以下の情報を出力するインスタンスメソッド `print_data` を作成せよ．\n",
    "\n",
    "```\n",
    "アイザック・アシモフのIDはA123です\n",
    "ウィリアム・ギブスンのIDはB456です\n",
    "フィリップ・K・ディックのIDはC789です\n",
    "```"
   ]
  },
  {
   "cell_type": "code",
   "execution_count": null,
   "metadata": {},
   "outputs": [],
   "source": [
    "# 解答\n",
    "\n",
    "class User:\n",
    "    def __init__(self, name, user_id):\n",
    "        self.name = name\n",
    "        self.user_id = user_id\n",
    "        \n",
    "    def print_data(self):\n",
    "        print(f'{self.name}のIDは{self.user_id}です')\n",
    "        \n",
    "user_1 = User('アイザック・アシモフ', 'A123')\n",
    "user_2 = User('ウィリアム・ギブスン', 'B456')\n",
    "user_3 = User('フィリップ・K・ディック', 'C789')\n",
    "\n",
    "user_1.print_data()\n",
    "user_2.print_data()\n",
    "user_3.print_data()"
   ]
  },
  {
   "cell_type": "markdown",
   "metadata": {},
   "source": [
    "## 演習4：クラスのまとめ\n",
    "講義資料に含まれていないあなた自身が考えた独自の機能を持つクラスを定義して，インスタンスメソッドから実装した処理の呼び出しを行うコードを作成せよ．独自であれば**どのような機能でも良い**．また **説明** と書かれたMarkdownセルに実装したクラスの機能について説明せよ．\n",
    "\n",
    "一からクラスを作成することが難しければ演習1-3のクラスをベースにしても良い．"
   ]
  },
  {
   "cell_type": "code",
   "execution_count": null,
   "metadata": {},
   "outputs": [],
   "source": [
    "# 解答例\n",
    "\n",
    "class User:\n",
    "    def __init__(self, name, user_id, score):\n",
    "        self.name = name\n",
    "        self.user_id = user_id\n",
    "        self.score = score\n",
    "        \n",
    "    def print_grade(self):\n",
    "        grade = self.get_grade()\n",
    "        print(f'{self.name}（ID:{self.user_id}）の成績は{grade}です')\n",
    "        \n",
    "    def get_grade(self):\n",
    "        if self.score >= 90:\n",
    "            return 'A'\n",
    "        elif self.score >= 80:\n",
    "            return 'B'\n",
    "        elif self.score >= 70:\n",
    "            return 'C'\n",
    "        elif self.score >= 60:\n",
    "            return 'D'\n",
    "        else:\n",
    "            return 'F'\n",
    "        \n",
    "user_1 = User('アイザック・アシモフ', 'A123', 55)\n",
    "user_2 = User('ウィリアム・ギブスン', 'B456', 71)\n",
    "user_3 = User('フィリップ・K・ディック', 'C789', 98)\n",
    "\n",
    "user_1.print_grade()\n",
    "user_2.print_grade()\n",
    "user_3.print_grade()"
   ]
  },
  {
   "cell_type": "markdown",
   "metadata": {},
   "source": [
    "**説明**\n",
    "\n",
    "成績評価のためのクラス `User` の作成した．インスタンス変数として，名前，ID，点数を受け取り，90点以上を'A'，80点以上を'B'，70点以上を'C'，60点以上を'D'，60点未満を'F'とする条件分岐を持つ`get_grade` メソッドを作成した．`print_grade` メソッドを呼び出すことで名前，ID，成績を表示できる．"
   ]
  },
  {
   "cell_type": "code",
   "execution_count": null,
   "metadata": {},
   "outputs": [],
   "source": []
  }
 ],
 "metadata": {
  "kernelspec": {
   "display_name": "Python 3 (ipykernel)",
   "language": "python",
   "name": "python3"
  },
  "language_info": {
   "codemirror_mode": {
    "name": "ipython",
    "version": 3
   },
   "file_extension": ".py",
   "mimetype": "text/x-python",
   "name": "python",
   "nbconvert_exporter": "python",
   "pygments_lexer": "ipython3",
   "version": "3.9.13"
  },
  "vscode": {
   "interpreter": {
    "hash": "393df73654aeede13ebb91076020de1190a2bd60e987ac18d822283f0caa6730"
   }
  }
 },
 "nbformat": 4,
 "nbformat_minor": 2
}
