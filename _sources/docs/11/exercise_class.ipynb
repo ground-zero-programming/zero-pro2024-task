{
 "cells": [
  {
   "cell_type": "markdown",
   "metadata": {},
   "source": [
    "# 第11回：クラス（演習）\n",
    "\n",
    "学籍番号：...\n",
    "\n",
    "氏名：...\n",
    "\n",
    "---"
   ]
  },
  {
   "cell_type": "markdown",
   "metadata": {},
   "source": [
    "## 演習1：クラスの作成\n",
    "ユーザーごとの情報を管理・処理するプログラムを作成したい．クラスを用いて次のインスタンス変数を持つクラス `User` を作成せよ．\n",
    "\n",
    "必要なインスタンス変数\n",
    "- 名前（`name`）：str型\n",
    "- ID（`user_id`）：str型"
   ]
  },
  {
   "cell_type": "code",
   "execution_count": null,
   "metadata": {},
   "outputs": [],
   "source": [
    "# 解答用セル"
   ]
  },
  {
   "cell_type": "markdown",
   "metadata": {},
   "source": [
    "## 演習2：インスタンス化\n",
    "作成したクラスからインスタンスを作成せよ．また，以下の結果を出力するコードを作成せよ．\n",
    "\n",
    "**出力**\n",
    "\n",
    "```\n",
    "アイザック・アシモフのIDはA123です\n",
    "ウィリアム・ギブスンのIDはB456です\n",
    "フィリップ・K・ディックのIDはC789です\n",
    "```\n",
    "\n",
    "\n",
    "ただし，変数に対応する値は以下とする．\n",
    "\n",
    "**インスタンス変数の値**\n",
    "\n",
    "| name  |　user_id |\n",
    "|----------|----------|\n",
    "| アイザック・アシモフ　| A123 |\n",
    "| ウィリアム・ギブスン | B456 |\n",
    "| フィリップ・K・ディック  | C789 |"
   ]
  },
  {
   "cell_type": "code",
   "execution_count": null,
   "metadata": {},
   "outputs": [],
   "source": [
    "# 解答用セル"
   ]
  },
  {
   "cell_type": "markdown",
   "metadata": {},
   "source": [
    "## 演習3：インスタンスメソッド\n",
    "演習2で作成したクラスを再定義して，以下の情報を出力するインスタンスメソッド `print_data` を作成せよ．\n",
    "\n",
    "```\n",
    "アイザック・アシモフのIDはA123です\n",
    "ウィリアム・ギブスンのIDはB456です\n",
    "フィリップ・K・ディックのIDはC789です\n",
    "```"
   ]
  },
  {
   "cell_type": "code",
   "execution_count": null,
   "metadata": {},
   "outputs": [],
   "source": [
    "# 解答用セル"
   ]
  },
  {
   "cell_type": "markdown",
   "metadata": {},
   "source": [
    "## 演習4：クラスのまとめ\n",
    "講義資料に含まれていないあなた自身が考えた独自の機能を持つクラスを定義して，インスタンスメソッドから実装した処理の呼び出しを行うコードを作成せよ．独自であれば**どのような機能でも良い**．また **説明** と書かれたMarkdownセルに実装したクラスの機能について説明せよ．\n",
    "\n",
    "一からクラスを作成することが難しければ演習1-3のクラスをベースにしても良い．"
   ]
  },
  {
   "cell_type": "code",
   "execution_count": null,
   "metadata": {},
   "outputs": [],
   "source": [
    "# 解答用セル"
   ]
  },
  {
   "cell_type": "markdown",
   "metadata": {},
   "source": [
    "**説明**\n",
    "..."
   ]
  }
 ],
 "metadata": {
  "kernelspec": {
   "display_name": "Python 3 (ipykernel)",
   "language": "python",
   "name": "python3"
  },
  "language_info": {
   "codemirror_mode": {
    "name": "ipython",
    "version": 3
   },
   "file_extension": ".py",
   "mimetype": "text/x-python",
   "name": "python",
   "nbconvert_exporter": "python",
   "pygments_lexer": "ipython3",
   "version": "3.9.13"
  },
  "vscode": {
   "interpreter": {
    "hash": "393df73654aeede13ebb91076020de1190a2bd60e987ac18d822283f0caa6730"
   }
  }
 },
 "nbformat": 4,
 "nbformat_minor": 2
}
