{
 "cells": [
  {
   "cell_type": "markdown",
   "metadata": {},
   "source": [
    "# 第5回：条件分岐（解答）\n",
    "\n",
    "※解答例はあくまで一例であり，他にも様々な解き方が考えられることに留意してください．"
   ]
  },
  {
   "cell_type": "markdown",
   "metadata": {},
   "source": [
    "## 演習1：真偽値と条件式\n",
    "\n",
    "### 例題\n",
    "\n",
    "「`x` は `y` より小さい」を，比較演算子を用いて記述せよ．\n",
    "なお，変数 `x` と `y` にはあらかじめ条件式が「`True`」となる適当な数値を代入しておくこと．"
   ]
  },
  {
   "cell_type": "code",
   "execution_count": null,
   "metadata": {},
   "outputs": [],
   "source": [
    "# 解答用セルの記入例\n",
    "x = 1\n",
    "y = 2\n",
    "\n",
    "x < y"
   ]
  },
  {
   "cell_type": "code",
   "execution_count": null,
   "metadata": {},
   "outputs": [],
   "source": []
  },
  {
   "cell_type": "markdown",
   "metadata": {},
   "source": [
    "### 演習1-1\n",
    "\n",
    "「`x` は `y` より大きい」を，比較演算子を用いて記述せよ．\n",
    "なお，変数 `x` と `y` にはあらかじめ条件式が「`True`」となる適当な数値を代入しておくこと．"
   ]
  },
  {
   "cell_type": "code",
   "execution_count": null,
   "metadata": {},
   "outputs": [],
   "source": [
    "# 解答例\n",
    "x = 5\n",
    "y = 3\n",
    "\n",
    "x > y"
   ]
  },
  {
   "cell_type": "markdown",
   "metadata": {},
   "source": [
    "### 演習1-2\n",
    "\n",
    "「`x` は `y` の2倍より大きい」を，比較演算子を用いて記述せよ．\n",
    "なお，変数 `x` と `y` にはあらかじめ条件式が「`True`」となる適当な数値を代入しておくこと．"
   ]
  },
  {
   "cell_type": "code",
   "execution_count": null,
   "metadata": {},
   "outputs": [],
   "source": [
    "# 解答例\n",
    "x = 15\n",
    "y = 7\n",
    "x > y * 2"
   ]
  },
  {
   "cell_type": "markdown",
   "metadata": {},
   "source": [
    "### 演習1-3\n",
    "\n",
    "「`x` は `y` と等しくない」を，比較演算子を用いて記述せよ．\n",
    "なお，変数 `x` と `y` にはあらかじめ条件式が「`True`」となる適当な数値を代入しておくこと．"
   ]
  },
  {
   "cell_type": "code",
   "execution_count": null,
   "metadata": {},
   "outputs": [],
   "source": [
    "# 解答例\n",
    "x = 3\n",
    "y = 1\n",
    "\n",
    "x != y"
   ]
  },
  {
   "cell_type": "markdown",
   "metadata": {},
   "source": [
    "### 演習1-4\n",
    "\n",
    "「`x` は `y` 以上である」を，比較演算子を用いて記述せよ．\n",
    "なお，変数 `x` と `y` にはあらかじめ条件式が「`True`」となる適当な数値を代入しておくこと．"
   ]
  },
  {
   "cell_type": "code",
   "execution_count": null,
   "metadata": {},
   "outputs": [],
   "source": [
    "# 解答例\n",
    "x = 5\n",
    "y = 3\n",
    "\n",
    "x >= y"
   ]
  },
  {
   "cell_type": "code",
   "execution_count": null,
   "metadata": {},
   "outputs": [],
   "source": [
    "# 解答例\n",
    "x = 3\n",
    "y = 5\n",
    "\n",
    "x <= y"
   ]
  },
  {
   "cell_type": "markdown",
   "metadata": {},
   "source": [
    "### 演習1-5\n",
    "\n",
    "「リスト `[2, 4, 6, 8, 10]` の中に `6` が含まれているか？」を比較演算子を用いて記述せよ．\n",
    "\n",
    "**出力例**\n",
    "\n",
    "```python\n",
    "True\n",
    "```"
   ]
  },
  {
   "cell_type": "code",
   "execution_count": null,
   "metadata": {},
   "outputs": [],
   "source": [
    "# 解答例\n",
    "6 in [2, 4, 6, 8, 10]"
   ]
  },
  {
   "cell_type": "markdown",
   "metadata": {},
   "source": [
    "### 演習1-6\n",
    "\n",
    "「文字列 `programming` の長さが10文字以上か？」を，比較演算子を用いて記述せよ．\n",
    "\n",
    "**ヒント**\n",
    "\n",
    "文字列の長さを取得するには，どうすればよかったか思い出そう．\n",
    "忘れた人は，[前回の教材](../02/variables_and_data_types.ipynb) を確認されたい．\n",
    "\n",
    "**出力例**\n",
    "\n",
    "```python\n",
    "True\n",
    "```"
   ]
  },
  {
   "cell_type": "code",
   "execution_count": null,
   "metadata": {},
   "outputs": [],
   "source": [
    "# 解答例\n",
    "len(\"programming\") >= 10"
   ]
  },
  {
   "cell_type": "markdown",
   "metadata": {},
   "source": [
    "## 演習2：`if`文\n",
    "\n",
    "### 演習2-1\n",
    "\n",
    "変数 `temperature` の値が `30` 以上の場合、「暑いです」と表示するプログラムを書け．\n",
    "なお，変数 `temperature` には適当な値を代入しておき，プログラムの実行結果も表示せよ．\n"
   ]
  },
  {
   "cell_type": "code",
   "execution_count": null,
   "metadata": {},
   "outputs": [],
   "source": [
    "# 解答例\n",
    "temperature = 35\n",
    "\n",
    "if temperature >= 30:\n",
    "    print(\"暑いです\")"
   ]
  },
  {
   "cell_type": "markdown",
   "metadata": {},
   "source": [
    "### 演習2-2\n",
    "\n",
    "文字列の変数 `password` の長さが8文字未満の場合、「パスワードが短すぎます」と表示するプログラムを書け．\n",
    "なお，変数 `password` には適当な値を代入しておき，プログラムの実行結果も表示せよ．"
   ]
  },
  {
   "cell_type": "code",
   "execution_count": null,
   "metadata": {},
   "outputs": [],
   "source": [
    "# 解答例\n",
    "password = \"abc123\"\n",
    "\n",
    "if len(password) < 8:\n",
    "    print(\"パスワードが短すぎます\")"
   ]
  },
  {
   "cell_type": "markdown",
   "metadata": {},
   "source": [
    "## 演習3：`if　... else`文\n",
    "\n",
    "### 演習3-1\n",
    "\n",
    "変数 `a` の値が `3` で割り切れるときは「`3で割り切れます`」，そうでないときには「`3で割り切れません`」と表示するプログラムを作成せよ．\n",
    "なお，変数 `a` には適当な値を代入しておき，プログラムの実行結果も表示せよ．\n",
    "\n",
    "**ヒント**\n",
    "\n",
    "「割り切れる」を表現するためには，`a` を `3` で割った余りが `0` と等しくなればよい．\n",
    "余りの計算方法は [第1回](../01/introduction_and_setup.ipynb) または [第2回](../02/variables_and_data_types.ipynb) の教材を参照されたい．"
   ]
  },
  {
   "cell_type": "code",
   "execution_count": null,
   "metadata": {},
   "outputs": [],
   "source": [
    "# 解答例\n",
    "a = 15\n",
    "\n",
    "if a % 3 == 0:\n",
    "    print('3で割り切れます')\n",
    "else:\n",
    "    print('3で割り切れません')"
   ]
  },
  {
   "cell_type": "markdown",
   "metadata": {},
   "source": [
    "### 演習3-2\n",
    "\n",
    "変数 `score` の値が `60` 以上の場合は「合格」，そうでない場合は「不合格」と表示するプログラムを作成せよ．\n",
    "なお，変数 `score` には適当な値を代入しておき，プログラムの実行結果も表示せよ．"
   ]
  },
  {
   "cell_type": "code",
   "execution_count": null,
   "metadata": {},
   "outputs": [],
   "source": [
    "# 解答例\n",
    "score = 75\n",
    "\n",
    "if score >= 60:\n",
    "    print(\"合格\")\n",
    "else:\n",
    "    print(\"不合格\")"
   ]
  },
  {
   "cell_type": "markdown",
   "metadata": {},
   "source": [
    "## 演習4：`if ... elif ... else`文\n",
    "\n",
    "### 演習4-1\n",
    "\n",
    "参加者の年齢に応じて，適切な入場料金を表示するプログラムを考える．\n",
    "ここでは，3歳児以下は無料，15歳児以下は子供料金，そうでなければ大人料金となるとする．\n",
    "\n",
    "年齢を表す変数 `age` の値が `3` 以下であれば「`入場料は無料です`」，`15` 以下であれば「`子供料金が必要です`」，そうでなければ「`大人料金が必要です`」と表示するプログラムを作成せよ．\n",
    "なお，変数 `age` には任意の値を代入し，プログラムの実行結果も表示せよ．"
   ]
  },
  {
   "cell_type": "code",
   "execution_count": null,
   "metadata": {},
   "outputs": [],
   "source": [
    "# 解答例\n",
    "age = 13\n",
    "\n",
    "if age <= 3:\n",
    "    print('入場料は無料です')\n",
    "elif age <= 15:\n",
    "    print('子供料金が必要です')\n",
    "else:\n",
    "    print('大人料金が必要です')"
   ]
  },
  {
   "cell_type": "markdown",
   "metadata": {},
   "source": [
    "### 演習4-2\n",
    "\n",
    "BMI（体格指数）に基づいて体型を判定するプログラムを作成せよ．\n",
    "BMIは体重(kg) / (身長(m)の2乗)で計算される．\n",
    "判定基準は以下の通り：\n",
    "\n",
    "- 18.5未満：「痩せ型」\n",
    "- 18.5以上25未満：「普通体型」\n",
    "- 25以上：「肥満」\n",
    "\n",
    "なお，変数 `weight`（体重）と `height`（身長）には適当な値を代入しておき，プログラムの実行結果も表示せよ．"
   ]
  },
  {
   "cell_type": "code",
   "execution_count": null,
   "metadata": {},
   "outputs": [],
   "source": [
    "# 解答例\n",
    "weight = 70  # kg\n",
    "height = 1.75  # m\n",
    "\n",
    "bmi = weight / (height ** 2)\n",
    "\n",
    "if bmi < 18.5:\n",
    "    print(\"痩せ型\")\n",
    "elif bmi < 25:\n",
    "    print(\"普通体型\")\n",
    "else:\n",
    "    print(\"肥満\")"
   ]
  },
  {
   "cell_type": "markdown",
   "metadata": {},
   "source": [
    "## 演習5：複数条件の組み合わせ"
   ]
  },
  {
   "cell_type": "markdown",
   "metadata": {},
   "source": [
    "### 演習5-1\n",
    "\n",
    "変数 `x` の値が「0でなく」かつ「2で割り切れる」場合のみ「`条件に合致します`」と表示し，そうでない場合に「`条件に合致しません`」と表示するプログラムを作成せよ．\n",
    "なお，変数 `x` には適当な値を代入しておき，プログラムの実行結果も表示せよ．"
   ]
  },
  {
   "cell_type": "code",
   "execution_count": null,
   "metadata": {},
   "outputs": [],
   "source": [
    "# 解答例\n",
    "x = 2\n",
    "\n",
    "if x != 0 and x % 2 == 0:\n",
    "    print('条件に合致します')\n",
    "else:\n",
    "    print('条件に合致しません')"
   ]
  },
  {
   "cell_type": "markdown",
   "metadata": {},
   "source": [
    "### 演習5-2\n",
    "\n",
    "変数 `day` に格納された曜日（文字列）が平日（ `\"Monday\"` から `\"Friday\"`）であれば「仕事です」，\n",
    "`\"Saturday\"` か `\"Sunday\"` であれば「休日です」と表示するプログラムを作成せよ．\n",
    "\n",
    "なお，変数 `day` には適当な曜日（文字列）を代入しておき，プログラムの実行結果も表示せよ．"
   ]
  },
  {
   "cell_type": "code",
   "execution_count": null,
   "metadata": {},
   "outputs": [],
   "source": [
    "day = \"Saturday\"\n",
    "\n",
    "if day in [\"Monday\", \"Tuesday\", \"Wednesday\", \"Thursday\", \"Friday\"]:\n",
    "    print(\"仕事です\")\n",
    "elif day in [\"Saturday\", \"Sunday\"]:\n",
    "    print(\"休日です\")"
   ]
  },
  {
   "cell_type": "markdown",
   "metadata": {},
   "source": [
    "## 演習6：発展課題\n",
    "\n",
    "これ以降は発展的な演習課題となります．\n",
    "解くことは必須ではありませんが，条件分岐を応用する良い練習になるので，ぜひチャレンジしてみてください．\n",
    "\n",
    "### 演習6-1：FizzBuzz問題\n",
    "\n",
    "変数 `number` の値に対し，次のことを出力せよ．\n",
    "\n",
    "- `3` で割り切れて `5` で割り切れないときは「`Fizz`」と出力\n",
    "- `5` で割り切れて `3` で割り切れない時は「`Buzz`」と出力\n",
    "- 両方で割り切れるときは「`FizzBuzz`」と出力\n",
    "- 両方で割り切れないときは，入力した数をそのまま出力\n",
    "\n",
    "なお，変数 `number` には適当な値を代入し，プログラムの実行結果も表示せよ．"
   ]
  },
  {
   "cell_type": "code",
   "execution_count": null,
   "metadata": {},
   "outputs": [],
   "source": [
    "# 解答例①\n",
    "# 上記の要件をそのままプログラムに落とし込むと以下のようになる（ただしやや冗長な書き方である）．\n",
    "number = 15\n",
    "\n",
    "if number % 3 == 0 and number % 5 != 0:\n",
    "    print('Fizz')\n",
    "elif number % 5 == 0 and number % 3 != 0:\n",
    "    print('Buzz')\n",
    "elif number % 5 == 0 and number % 3 == 0:\n",
    "    print('FizzBuzz')\n",
    "else:\n",
    "    print(number)"
   ]
  },
  {
   "cell_type": "code",
   "execution_count": null,
   "metadata": {},
   "outputs": [],
   "source": [
    "# 解答例②\n",
    "# もう少しコンパクトに書いた場合．条件式は上から順番に判定されることを利用している．\n",
    "number = 15\n",
    "\n",
    "if number % 3 == 0 and number % 5 == 0:\n",
    "    print('FizzBuzz')\n",
    "elif number % 3 == 0:\n",
    "    print('Fizz')\n",
    "elif number % 5 == 0:\n",
    "    print('Buzz')\n",
    "else:\n",
    "    print(number) "
   ]
  },
  {
   "cell_type": "markdown",
   "metadata": {},
   "source": [
    "### 演習6-2：3の倍数と3のつく数\n",
    "\n",
    "変数 `number` の値に対し，3の倍数と3のつく数の時だけ「3に関する数です」と出力するプログラムを作成せよ．なお，変数 `number` には適当な値を代入し，プログラムの実行結果も表示せよ．"
   ]
  },
  {
   "cell_type": "code",
   "execution_count": null,
   "metadata": {},
   "outputs": [],
   "source": [
    "# 解答例\n",
    "number = 13\n",
    "\n",
    "if (number % 3 == 0) or ('3' in str(number)):\n",
    "    print('3に関する値です')"
   ]
  },
  {
   "cell_type": "markdown",
   "metadata": {},
   "source": [
    "```{admonition} 解答の解説\n",
    "\n",
    "おそらく躓きやすいポイントとしては，「3のつく数かどうか」を条件式としてどのように表現するか，であろう．\n",
    "\n",
    "上記の解答例では，第4回で学んだ 文字列に対する`in` を用いて，「`number` の中に `3` が含まれているか？」を条件式として表現している．\n",
    "ただし，変数 `number` には数値が格納されているため，`str()` を用いて文字列型に変換している（`str()` の復習は [こちら](../02/variables_and_data_types.html#id43)）．\n",
    "\n",
    "例えば `number = 13` の場合，「文字列 `'13'` の中に文字 `'3'` が含まれているか？」という条件式を考えていることになる．\n",
    "\n",
    "```"
   ]
  },
  {
   "cell_type": "markdown",
   "metadata": {},
   "source": [
    "### 演習6-3：簡易電卓\n",
    "\n",
    "二つの数値 `a`，`b` と，演算子 `operator`（`+`, `-`, `*`, `/` のいずれか）を入力として受け取り，\n",
    "指定された演算を行う簡易電卓プログラムを作成せよ．\n",
    "ただし，0での除算の場合は「0で割ることはできません」と表示すること．\n",
    "\n",
    "なお，変数 `a`，`b`，`operator` には適当な値を代入しておき，プログラムの実行結果も表示せよ．"
   ]
  },
  {
   "cell_type": "code",
   "execution_count": null,
   "metadata": {},
   "outputs": [],
   "source": [
    "# 解答例\n",
    "a = 10\n",
    "b = 2\n",
    "operator = \"/\"\n",
    "\n",
    "if operator == \"+\":\n",
    "    result = a + b\n",
    "elif operator == \"-\":\n",
    "    result = a - b\n",
    "elif operator == \"*\":\n",
    "    result = a * b\n",
    "elif operator == \"/\":\n",
    "    if b != 0:\n",
    "        result = a / b\n",
    "    else:\n",
    "        print(\"0で割ることはできません\")\n",
    "        result = None\n",
    "else:\n",
    "    print(\"無効な演算子です\")\n",
    "    result = None\n",
    "\n",
    "if result is not None:\n",
    "    print(f\"{a} {operator} {b} = {result}\")"
   ]
  },
  {
   "cell_type": "markdown",
   "metadata": {},
   "source": []
  }
 ],
 "metadata": {
  "kernelspec": {
   "display_name": "ml-py39",
   "language": "python",
   "name": "python3"
  },
  "language_info": {
   "codemirror_mode": {
    "name": "ipython",
    "version": 3
   },
   "file_extension": ".py",
   "mimetype": "text/x-python",
   "name": "python",
   "nbconvert_exporter": "python",
   "pygments_lexer": "ipython3",
   "version": "3.9.20"
  }
 },
 "nbformat": 4,
 "nbformat_minor": 2
}
